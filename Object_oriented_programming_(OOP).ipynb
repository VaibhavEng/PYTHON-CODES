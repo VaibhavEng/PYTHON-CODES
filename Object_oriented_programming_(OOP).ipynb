{
  "nbformat": 4,
  "nbformat_minor": 0,
  "metadata": {
    "colab": {
      "name": "Object-oriented programming (OOP).ipynb",
      "provenance": []
    },
    "kernelspec": {
      "name": "python3",
      "display_name": "Python 3"
    }
  },
  "cells": [
    {
      "cell_type": "markdown",
      "metadata": {
        "id": "o7vsH3k83J65"
      },
      "source": [
        "# CLASSES"
      ]
    },
    {
      "cell_type": "code",
      "metadata": {
        "id": "cxGbWO8W3HQ1",
        "outputId": "a548ffbb-b8ba-4c67-9e5a-3f0b9e580126",
        "colab": {
          "base_uri": "https://localhost:8080/",
          "height": 67
        }
      },
      "source": [
        "class Employee:\n",
        "  def __init__(self,first,last,pay):\n",
        "    self.first = first\n",
        "    self.last = last \n",
        "    self.pay = pay\n",
        "    self.email=first + '.' + last + '@company.com'\n",
        "\n",
        "  def fullname(self):\n",
        "    return '{} {}'.format(self.first,self.last)\n",
        "\n",
        "\n",
        "emp1=Employee('vaibhav','kunal',200)\n",
        "emp2=Employee('kunak','vaibhav',5000)\n",
        "\n",
        "print(emp1.email)\n",
        "print(emp2.fullname())\n",
        "print(Employee.fullname(emp1))"
      ],
      "execution_count": 1,
      "outputs": [
        {
          "output_type": "stream",
          "text": [
            "vaibhav.kunal@company.com\n",
            "kunak vaibhav\n",
            "vaibhav kunal\n"
          ],
          "name": "stdout"
        }
      ]
    },
    {
      "cell_type": "code",
      "metadata": {
        "id": "2KT4JOk13BDb",
        "outputId": "255b1046-5c9a-4c66-d5fe-f789164afa5c",
        "colab": {
          "base_uri": "https://localhost:8080/",
          "height": 34
        }
      },
      "source": [
        "class Employee:\n",
        "  num_of_emps=0\n",
        "  raise_amount =1.04\n",
        "  def __init__(self,first,last,pay):\n",
        "    self.first = first\n",
        "    self.last = last \n",
        "    self.pay = pay\n",
        "    self.email=first + '.' + last + '@company.com'\n",
        "    Employee.num_of_emps +=1\n",
        "\n",
        "  def fullname(self):\n",
        "    return '{} {}'.format(self.first,self.last)\n",
        "\n",
        "  def apply_raise(self):\n",
        "    self.pay = int(self.pay * self.raise_amount)\n",
        "\n",
        "\n",
        "emp1=Employee('vaibhav','kunal',200)\n",
        "emp2=Employee('kunak','vaibhav',5000)\n",
        "\n",
        "print(Employee.num_of_emps)"
      ],
      "execution_count": 2,
      "outputs": [
        {
          "output_type": "stream",
          "text": [
            "2\n"
          ],
          "name": "stdout"
        }
      ]
    },
    {
      "cell_type": "markdown",
      "metadata": {
        "id": "LTxuX1g33OW2"
      },
      "source": [
        "#CLASS METHOD"
      ]
    },
    {
      "cell_type": "code",
      "metadata": {
        "id": "whWcoVXR3ECi",
        "outputId": "94c4b03a-b686-405d-c7f2-477b19d85f30",
        "colab": {
          "base_uri": "https://localhost:8080/",
          "height": 50
        }
      },
      "source": [
        "class Employee:\n",
        "  num_of_emps=0\n",
        "  raise_amt =1.04\n",
        "  def __init__(self,first,last,pay):\n",
        "    self.first = first\n",
        "    self.last = last \n",
        "    self.pay = pay\n",
        "    self.email=first + '.' + last + '@company.com'\n",
        "    Employee.num_of_emps +=1\n",
        "\n",
        "  def fullname(self):\n",
        "    return '{} {}'.format(self.first,self.last)\n",
        "\n",
        "  def apply_raise(self):\n",
        "    self.pay = int(self.pay * self.raise_amt)\n",
        "# class method \n",
        "  @classmethod\n",
        "  def set_raise_amt(cls,amount):\n",
        "    cls.raise_amt = amount \n",
        "\n",
        "  @classmethod\n",
        "  def from_string(cls,emp_str):\n",
        "    first , last , pay = emp_str.split('-')\n",
        "    return cls(first,last,pay)\n",
        "\n",
        "\n",
        "\n",
        "emp1=Employee('vaibhav','kunal',200)\n",
        "emp2=Employee('kunak','vaibhav',5000)\n",
        "print(emp2.fullname())\n",
        "\n",
        "\n",
        "emp_str_1 = 'john-Done-70000'\n",
        "emp_str_2 = 'Steve-smith-5000'\n",
        "emp_str_3 = 'kunal-pandta-5000'\n",
        "\n",
        "\n",
        "new_amp_1=Employee.from_string(emp_str_1)\n",
        "\n",
        "\n",
        "print(new_amp_1.email)"
      ],
      "execution_count": 3,
      "outputs": [
        {
          "output_type": "stream",
          "text": [
            "kunak vaibhav\n",
            "john.Done@company.com\n"
          ],
          "name": "stdout"
        }
      ]
    },
    {
      "cell_type": "markdown",
      "metadata": {
        "id": "-uTlGMZ-3aqS"
      },
      "source": [
        "#Static method"
      ]
    },
    {
      "cell_type": "code",
      "metadata": {
        "id": "6sxxGsr13XiA",
        "outputId": "c03dee99-72e9-47c1-dbd2-8e9131de571b",
        "colab": {
          "base_uri": "https://localhost:8080/",
          "height": 34
        }
      },
      "source": [
        "class Employee:\n",
        "  num_of_emps=0\n",
        "  raise_amt =1.04\n",
        "  def __init__(self,first,last,pay):\n",
        "    self.first = first\n",
        "    self.last = last \n",
        "    self.pay = pay\n",
        "    self.email=first + '.' + last + '@company.com'\n",
        "    Employee.num_of_emps +=1\n",
        "\n",
        "  def fullname(self):\n",
        "    return '{} {}'.format(self.first,self.last)\n",
        "\n",
        "  def apply_raise(self):\n",
        "    self.pay = int(self.pay * self.raise_amt)\n",
        "# class method \n",
        "  @classmethod\n",
        "  def set_raise_amt(cls,amount):\n",
        "    cls.raise_amt = amount \n",
        "\n",
        "  @classmethod\n",
        "  def from_string(cls,emp_str):\n",
        "    first , last , pay = emp_str.split('-')\n",
        "    return cls(first,last,pay)\n",
        "# static method\n",
        "  @staticmethod\n",
        "  def is_workday(day):\n",
        "    if day.weekday() == 5 or day.weekday() == 6:\n",
        "      return False\n",
        "    return True\n",
        "\n",
        "import datetime\n",
        "my_date = datetime.date(2016,7,10)\n",
        "print(Employee.is_workday(my_date))    "
      ],
      "execution_count": 4,
      "outputs": [
        {
          "output_type": "stream",
          "text": [
            "False\n"
          ],
          "name": "stdout"
        }
      ]
    },
    {
      "cell_type": "code",
      "metadata": {
        "id": "-dRF6mjB3oDN",
        "outputId": "842585db-b6cc-414c-b80d-e7f448806cd6",
        "colab": {
          "base_uri": "https://localhost:8080/",
          "height": 84
        }
      },
      "source": [
        " class Employee:\n",
        "\n",
        "\n",
        "  raise_amt =1.04\n",
        "  def __init__(self,first,last,pay):\n",
        "    self.first = first\n",
        "    self.last = last \n",
        "    self.pay = pay\n",
        "    self.email=first + '.' + last + '@company.com'\n",
        "    \n",
        "\n",
        "  def fullname(self):\n",
        "    return '{} {}'.format(self.first,self.last)\n",
        "\n",
        "  def apply_raise(self):\n",
        "    self.pay = int(self.pay * self.raise_amt)\n",
        "\n",
        "class Developer(Employee):\n",
        "  raise_amt=1.10\n",
        "\n",
        "  def __init__(self,first,last,pay,prog_lang):\n",
        "    super().__init__(first,last,pay)\n",
        "    self.prog_lang = prog_lang\n",
        "\n",
        "class Manager(Employee):\n",
        "  def __init__(self,first,last,pay,employees=None):\n",
        "    super().__init__(first,last,pay)\n",
        "    if employees is None:\n",
        "      self.employees = []\n",
        "    else:\n",
        "      self.employees = employees  \n",
        "\n",
        "  def add_amp(self,emp):\n",
        "    if emp not in self.employees:\n",
        "      self.employees.append(emp)\n",
        "  def remove_amp(self , emp):\n",
        "    if emp in self.employees:\n",
        "      self.employees.remove(emp)    \n",
        "  def print_emps(self):\n",
        "    for emp in self.employees:\n",
        "      print('--->',emp.fullname())\n",
        "\n",
        "dev_1 =Developer('vaibhav','kunal',50000,'python')\n",
        "dev_2 =Developer('rushi','game',6000,'java')\n",
        "\n",
        "mgr_1 = Manager('Sue','Smith',90000,[dev_1])\n",
        "print(mgr_1.email)\n",
        "mgr_1.add_amp(dev_1)\n",
        "mgr_1.print_emps()\n",
        "\n",
        "# print(dev_1.email)\n",
        "# print(dev_2.email)\n",
        "\n",
        "print(dev_1.prog_lang)\n",
        "dev_1.apply_raise()\n",
        "print(dev_1.pay)"
      ],
      "execution_count": 5,
      "outputs": [
        {
          "output_type": "stream",
          "text": [
            "Sue.Smith@company.com\n",
            "---> vaibhav kunal\n",
            "python\n",
            "55000\n"
          ],
          "name": "stdout"
        }
      ]
    },
    {
      "cell_type": "code",
      "metadata": {
        "id": "r6S_R8Y33o-s"
      },
      "source": [
        "# single iheritance \n",
        "# hierarchial inheritance\n",
        "# multiple inheritance\n",
        "# multilevel inheritance"
      ],
      "execution_count": 6,
      "outputs": []
    },
    {
      "cell_type": "code",
      "metadata": {
        "id": "RtBThyiK3slS",
        "outputId": "ad4a0b54-46f5-403b-b781-0267aa60e9dc",
        "colab": {
          "base_uri": "https://localhost:8080/",
          "height": 118
        }
      },
      "source": [
        "### single inheritanceeee\n",
        "class Parent():\n",
        "\n",
        "  def __init__(self,a):\n",
        "    self.a=a\n",
        "    \n",
        "  def display(self):\n",
        "    print(\"you are in parent class\")\n",
        "class Child(Parent):\n",
        "  def __init__(self,a,b):\n",
        "    super().__init__(a)\n",
        "    self.b=b\n",
        "\n",
        "  def greet(self):\n",
        "    print(\"Goood after noon\")\n",
        "\n",
        "  def display(self):\n",
        "    Parent.display(self)\n",
        "    print(\"in child class\")  \n",
        "  \n",
        "\n",
        "c = Child(20,10)\n",
        "c.greet()  \n",
        "c.display() \n",
        "print(c.a)\n",
        "print(c.b)\n",
        "\n",
        "print()"
      ],
      "execution_count": 7,
      "outputs": [
        {
          "output_type": "stream",
          "text": [
            "Goood after noon\n",
            "you are in parent class\n",
            "in child class\n",
            "20\n",
            "10\n",
            "\n"
          ],
          "name": "stdout"
        }
      ]
    },
    {
      "cell_type": "code",
      "metadata": {
        "id": "OUZDrIM83w-B",
        "outputId": "2a0aa50a-58b4-4658-d2b5-fbc654864fbf",
        "colab": {
          "base_uri": "https://localhost:8080/",
          "height": 67
        }
      },
      "source": [
        "## multilevel\n",
        "class GrandParent():\n",
        "  def __init__(self, name):\n",
        "    self.name=name\n",
        "class Parent(GrandParent):\n",
        "  def display(self):\n",
        "    print(__class__.__name__)\n",
        "class Child(Parent):\n",
        "  def __init__(self,name,age):\n",
        "    super().__init__(name)\n",
        "    self.age=age\n",
        "c = Child(\"Itv\",10)\n",
        "c.display()\n",
        "print(c.name)\n",
        "print(c.age)   "
      ],
      "execution_count": 8,
      "outputs": [
        {
          "output_type": "stream",
          "text": [
            "Parent\n",
            "Itv\n",
            "10\n"
          ],
          "name": "stdout"
        }
      ]
    },
    {
      "cell_type": "code",
      "metadata": {
        "id": "h2Z1A-z632sH"
      },
      "source": [
        "#multilevel\n",
        "\n",
        "class Parent1():\n",
        "  def display(self):\n",
        "    print(__class__.__name__)\n",
        "class Parent2():\n",
        "  def display(self):\n",
        "    print(__class__.__name__)\n",
        "class child(Parent1,Parent2) :\n",
        "  pass\n",
        "\n",
        "\n",
        "c=child()"
      ],
      "execution_count": 10,
      "outputs": []
    },
    {
      "cell_type": "code",
      "metadata": {
        "id": "q7nqsYUt33td"
      },
      "source": [
        ""
      ],
      "execution_count": null,
      "outputs": []
    }
  ]
}